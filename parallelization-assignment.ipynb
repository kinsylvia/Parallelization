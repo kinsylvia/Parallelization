{
 "cells": [
  {
   "cell_type": "markdown",
   "metadata": {},
   "source": [
    "## Assignment - Single Machine Parallelization"
   ]
  },
  {
   "cell_type": "markdown",
   "metadata": {},
   "source": [
    "In this assignment we will be investigating the Enron email corpus from the 2002 Federal Energy Regulatory Commission (FERB) investigation.  This corpus of emails is still used to train AI on topics related to corporate communication, as this is one of the few public datasets available. Though there are AI ethics questions if the data is used for language purposes without proper precautions. [Read this article](https://qz.com/work/1546565/the-emails-that-brought-down-enron-still-shape-our-daily-lives/) to learn more about the dataset and its implications for AI."
   ]
  },
  {
   "cell_type": "markdown",
   "metadata": {},
   "source": [
    "Start off by choosing the `ml.m5.xlarge` instance as your kernel. Then start conducting the lab."
   ]
  },
  {
   "cell_type": "markdown",
   "metadata": {},
   "source": [
    "---"
   ]
  },
  {
   "cell_type": "markdown",
   "metadata": {},
   "source": [
    "### Task 0: Download dataset and explore it"
   ]
  },
  {
   "cell_type": "markdown",
   "metadata": {
    "tags": []
   },
   "source": [
    "The research dataset is located here, maintained by Carnegie Mellon University, https://www.cs.cmu.edu/~enron/. Though due to its size we have created a smaller version on S3. Follow these steps to get the file:\n",
    "\n",
    "1. Copy the file from the class's public S3 bucket into your own S3 bucket. You must change the bucket name to yours with your net id. `aws s3 cp s3://bigdatateaching/enron/maildir.zip s3://[NET_ID]-labdata`"
   ]
  },
  {
   "cell_type": "code",
   "execution_count": null,
   "metadata": {},
   "outputs": [],
   "source": []
  },
  {
   "cell_type": "markdown",
   "metadata": {
    "tags": []
   },
   "source": [
    "2. Copy the file from your own S3 bucket to SageMaker. Use the boto3 package for this. This will place the `maildir` directory from the zip file into the tmp folder of your EC2."
   ]
  },
  {
   "cell_type": "code",
   "execution_count": 10,
   "metadata": {
    "tags": []
   },
   "outputs": [],
   "source": [
    "import boto3\n",
    "my_bucket = 'lab2-yd210'\n",
    "my_file = 'maildir.zip'\n",
    "\n",
    "s3client = boto3.client('s3')\n",
    "s3client.download_file(my_bucket, my_file, '/tmp/maildir.zip')"
   ]
  },
  {
   "cell_type": "markdown",
   "metadata": {},
   "source": [
    "3. Run the following command in a new cell to unzip the directory. This could take a while, there are almost 80,000 files!! We are explicitly saving to the /tmp file share because it is part of your EC2. If you use your git repository to store the maildir zip or unpacked files, we would be here a while...."
   ]
  },
  {
   "cell_type": "code",
   "execution_count": null,
   "metadata": {},
   "outputs": [
    {
     "name": "stdout",
     "output_type": "stream",
     "text": [
      "replace maildir/allen-p/inbox/.ipynb_checkpoints/14_-checkpoint? [y]es, [n]o, [A]ll, [N]one, [r]ename: "
     ]
    }
   ],
   "source": [
    "!cd /tmp; unzip -q /tmp/maildir.zip"
   ]
  },
  {
   "cell_type": "markdown",
   "metadata": {},
   "source": [
    "The bullets below represent the file structure of interest from the Enron dataset. To confirm that you have unzipped and placed the data in the correct location, click on the links of files, e.g. `1_`, `2_`, etc., which will open the text files for you to explore. Notice that these are all raw text files."
   ]
  },
  {
   "cell_type": "markdown",
   "metadata": {},
   "source": [
    "* [maildir](./maildir)\n",
    " * [allen-p](./maildir/allen-p)\n",
    "   * [inbox](./maildir/allen-p/inbox)\n",
    "       * [1_](./maildir/allen-p/inbox/1_)\n",
    "       * [2_](./maildir/allen-p/inbox/2_)\n",
    "       * [3_](./maildir/allen-p/inbox/3_)\n",
    "       ...\n",
    "   * [sent_items](./maildir/allen-p/sent_items)\n",
    "       * [1_](./maildir/allen-p/sent_items/1_)\n",
    "       * [2_](./maildir/allen-p/sent_items/2_)\n",
    "       * [3_](./maildir/allen-p/sent_items/3_)\n",
    "       * etc...\n",
    "   * etc...\n",
    " * [arnold-j](./maildir/arnold-j)\n",
    "   * [inbox](./maildir/arnold-j/inbox)\n",
    "       * [1_](./maildir/arnold-j/inbox/1_)\n",
    "       * [2_](./maildir/arnold-j/inbox/2_)\n",
    "       * [3_](./maildir/arnold-j/inbox/3_)\n",
    "       * etc ...\n",
    "   * [sent_items](./maildir/arnold-j/sent_items)\n",
    "       * [1_](./maildir/arnold-j/sent_items/1_)\n",
    "       * [2_](./maildir/arnold-j/sent_items/2_)\n",
    "       * [3_](./maildir/arnold-j/sent_items/3_)\n",
    "       * etc...\n",
    "   * etc...\n",
    " * [arora-h](./maildir/arora-h)\n",
    "   * [inbox](./maildir/arora-h/inbox)\n",
    "       * [1_](./maildir/arora-h/inbox/1_)\n",
    "       * [2_](./maildir/arora-h/inbox/2_)\n",
    "       * [3_](./maildir/arora-h/inbox/3_)\n",
    "       * etc...\n",
    "   * [sent_items](./maildir/arora-h/sent_items)\n",
    "       * [1_](./maildir/arora-h/sent_items/1_)\n",
    "       * [2_](./maildir/arora-h/sent_items/2_)\n",
    "       * [3_](./maildir/arora-h/sent_items/3_)\n",
    "       * etc...\n",
    "   * etc...\n",
    " * etc... etc..."
   ]
  },
  {
   "cell_type": "markdown",
   "metadata": {},
   "source": [
    "---------------------------"
   ]
  },
  {
   "cell_type": "markdown",
   "metadata": {},
   "source": [
    "### Task #1: Collect all of the file paths of emails in the maildir (2 points)\n",
    "\n",
    "The output object will be called `list_emails` should contain 79,429 items and look similar to the following:\n",
    "```\n",
    "['/tmp/maildir/allen-p/inbox/10_',\n",
    " '/tmp/maildir/allen-p/inbox/11_',\n",
    " '/tmp/maildir/allen-p/inbox/12_',\n",
    " '/tmp/maildir/allen-p/inbox/13_',\n",
    " '/tmp/maildir/allen-p/inbox/14_',\n",
    " '/tmp/maildir/allen-p/inbox/15_',\n",
    " '/tmp/maildir/allen-p/inbox/16_',\n",
    " '/tmp/maildir/allen-p/inbox/17_',\n",
    " '/tmp/maildir/allen-p/inbox/18_',\n",
    " '/tmp/maildir/allen-p/inbox/19_',\n",
    " ...\n",
    " ]\n",
    "```\n",
    "\n",
    "The broad strokes to creating this list goes as follows:\n",
    "\n",
    "- use the command `os.listdir('/tmp/maildir')` to see the folders in the mail directory\n",
    "- then use the command `os.listdir('/tmp/maildir/allen-p')` to see the folder in Allen P's folder\n",
    "- then use the command `os.listdir('/tmp/maildir/allen-p/inbox')` to see the contents in Allen P's inbox and collect the full file paths\n",
    "- you need to also collect all the files in both the inbox and sent_items folders for Allen P, do not track emails from the other folders\n",
    "- next move onto Arnold J!\n",
    "- next move onto Arora H!\n",
    "- ....\n",
    "\n",
    "Light bulbs should start going off in your head at this point about ways to solve this problem. This is a repeated process that needs to happen many many times. A for loop is the simplest way to solve a repetitive task. **Use for loops** to collect all 79,429 file paths into a single list.\n",
    "\n",
    "**Hint:** look up `os.path.join()` or f-strings if you are having trouble creating the appropriate argument for the `os.listdir()` command"
   ]
  },
  {
   "cell_type": "markdown",
   "metadata": {},
   "source": [
    "In the following cell(s) produce the list of emails as directed and save the result to the object `list_email_paths`"
   ]
  },
  {
   "cell_type": "code",
   "execution_count": 63,
   "metadata": {},
   "outputs": [
    {
     "data": {
      "text/plain": [
       "['all_documents',\n",
       " 'contacts',\n",
       " 'deleted_items',\n",
       " 'discussion_threads',\n",
       " 'inbox',\n",
       " 'notes_inbox',\n",
       " 'sent',\n",
       " 'sent_items',\n",
       " 'straw',\n",
       " '_sent_mail']"
      ]
     },
     "execution_count": 63,
     "metadata": {},
     "output_type": "execute_result"
    }
   ],
   "source": [
    "import os\n",
    "import numpy as np\n",
    "os.listdir('/tmp/maildir/allen-p')"
   ]
  },
  {
   "cell_type": "code",
   "execution_count": 66,
   "metadata": {},
   "outputs": [],
   "source": [
    "list_email_paths = []\n",
    "maildir = '/tmp/maildir'\n",
    "for name in os.listdir(maildir):\n",
    "    for file in os.listdir(os.path.join(maildir,name)):\n",
    "        if (file == \"inbox\" or file == \"sent_items\"):\n",
    "            for inner_file in os.listdir(os.path.join(maildir, name, file)):\n",
    "                path = os.path.join(maildir, name, file, inner_file)\n",
    "                list_email_paths.append(path)"
   ]
  },
  {
   "cell_type": "code",
   "execution_count": 71,
   "metadata": {},
   "outputs": [
    {
     "data": {
      "text/plain": [
       "['/tmp/maildir/allen-p/inbox/10_',\n",
       " '/tmp/maildir/allen-p/inbox/11_',\n",
       " '/tmp/maildir/allen-p/inbox/12_',\n",
       " '/tmp/maildir/allen-p/inbox/13_',\n",
       " '/tmp/maildir/allen-p/inbox/14_',\n",
       " '/tmp/maildir/allen-p/inbox/15_',\n",
       " '/tmp/maildir/allen-p/inbox/16_',\n",
       " '/tmp/maildir/allen-p/inbox/17_',\n",
       " '/tmp/maildir/allen-p/inbox/18_',\n",
       " '/tmp/maildir/allen-p/inbox/19_']"
      ]
     },
     "execution_count": 71,
     "metadata": {},
     "output_type": "execute_result"
    }
   ],
   "source": [
    "# clean data\n",
    "for item in list_email_paths:\n",
    "    if \"checkpoint\" in item:\n",
    "        list_email_paths.remove(item)\n",
    "        #print(list_email_paths)\n",
    "len(list_email_paths)\n",
    "list_email_paths[:10]"
   ]
  },
  {
   "cell_type": "markdown",
   "metadata": {},
   "source": [
    "In the following cell(s) print the first 10 items of the list as well as the length of the list"
   ]
  },
  {
   "cell_type": "code",
   "execution_count": 77,
   "metadata": {},
   "outputs": [
    {
     "name": "stdout",
     "output_type": "stream",
     "text": [
      "length:  79429\n"
     ]
    },
    {
     "data": {
      "text/plain": [
       "['/tmp/maildir/allen-p/inbox/10_',\n",
       " '/tmp/maildir/allen-p/inbox/11_',\n",
       " '/tmp/maildir/allen-p/inbox/12_',\n",
       " '/tmp/maildir/allen-p/inbox/13_',\n",
       " '/tmp/maildir/allen-p/inbox/14_',\n",
       " '/tmp/maildir/allen-p/inbox/15_',\n",
       " '/tmp/maildir/allen-p/inbox/16_',\n",
       " '/tmp/maildir/allen-p/inbox/17_',\n",
       " '/tmp/maildir/allen-p/inbox/18_',\n",
       " '/tmp/maildir/allen-p/inbox/19_']"
      ]
     },
     "execution_count": 77,
     "metadata": {},
     "output_type": "execute_result"
    }
   ],
   "source": [
    "print(\"length: \",len(list_email_paths))\n",
    "list_email_paths[:10]"
   ]
  },
  {
   "cell_type": "markdown",
   "metadata": {},
   "source": [
    "--------------------"
   ]
  },
  {
   "cell_type": "markdown",
   "metadata": {},
   "source": [
    "### Task 2: Read in one text email and parse out relevant information using a function (2 points)"
   ]
  },
  {
   "cell_type": "markdown",
   "metadata": {},
   "source": [
    "carriage returnsBefore you get to parallelizing, you need to build the function that will execute on every email in your list. The objective of this task is to build the function called `email_process()` which will take as an input the path of an email and output the following information in a dictionary:\n",
    "\n",
    "* Email of the sender\n",
    "* Email(s) of the recipient\n",
    "* Email timestamp\n",
    "* Email subject\n",
    "* Email body\n",
    "\n",
    "An example output from the function on the first email in Allen P's inbox looks like the following:\n",
    "\n",
    "```\n",
    "{'from': 'heather.dunton@enron.com',\n",
    " 'to': 'k..allen@enron.com',\n",
    " 'timestamp': 'Fri, 7 Dec 2001 10:06:42 -0800 (PST)'\n",
    " 'subject': 'RE: West Position',\n",
    " 'body': ' \\nPlease let me know if you still need Curve Shift.\\n\\nThanks,\\nHeather\\n -----Original Message-----\\nFrom: \\tAllen, Phillip K.  \\nSent:\\tFriday, December 07, 2001 5:14 AM\\nTo:\\tDunton, Heather\\nSubject:\\tRE: West Position\\n\\nHeather,\\n\\nDid you attach the file to this email?\\n\\n -----Original Message-----\\nFrom: \\tDunton, Heather  \\nSent:\\tWednesday, December 05, 2001 1:43 PM\\nTo:\\tAllen, Phillip K.; Belden, Tim\\nSubject:\\tFW: West Position\\n\\nAttached is the Delta position for 1/16, 1/30, 6/19, 7/13, 9/21\\n\\n\\n -----Original Message-----\\nFrom: \\tAllen, Phillip K.  \\nSent:\\tWednesday, December 05, 2001 6:41 AM\\nTo:\\tDunton, Heather\\nSubject:\\tRE: West Position\\n\\nHeather,\\n\\nThis is exactly what we need.  Would it possible to add the prior day for each of the dates below to the pivot table.  In order to validate the curve shift on the dates below we also need the prior days ending positions.\\n\\nThank you,\\n\\nPhillip Allen\\n\\n -----Original Message-----\\nFrom: \\tDunton, Heather  \\nSent:\\tTuesday, December 04, 2001 3:12 PM\\nTo:\\tBelden, Tim; Allen, Phillip K.\\nCc:\\tDriscoll, Michael M.\\nSubject:\\tWest Position\\n\\n\\nAttached is the Delta position for 1/18, 1/31, 6/20, 7/16, 9/24\\n\\n\\n\\n << File: west_delta_pos.xls >> \\n\\nLet me know if you have any questions.\\n\\n\\nHeather'\n",
    " }\n",
    "```\n",
    "\n",
    "To process the raw text file, we recommend that you use the `email.parser.Parser()` function. Read documentation on it [here](https://docs.python.org/3/library/email.parser.html).\n",
    "\n",
    "The to field will need some cleaning. Remove any carriage returns, tabs, or spaces from the to field. \n",
    "\n",
    "It's OK that the email body is really messy right now. A future task is to clean it up."
   ]
  },
  {
   "cell_type": "markdown",
   "metadata": {},
   "source": [
    "In the following cell(s) produce the function `email_process()`"
   ]
  },
  {
   "cell_type": "code",
   "execution_count": 196,
   "metadata": {},
   "outputs": [],
   "source": [
    "from email.parser import Parser\n",
    "import re"
   ]
  },
  {
   "cell_type": "code",
   "execution_count": 264,
   "metadata": {},
   "outputs": [],
   "source": [
    "def email_process(path):\n",
    "    f = open(path, 'r', encoding=\"ISO-8859-1\")\n",
    "    raw_email = f.read()\n",
    "    #f = Parser().parsestr(raw_email.decode('utf-8','ignore'))\n",
    "    \n",
    "    f = Parser().parsestr(raw_email)\n",
    "    \n",
    "    for i in f:\n",
    "        i = i.replace('\\n', '').replace('\\r', '')   # remove carriage returns\n",
    "        i = i.strip(' ')  # remove spaces\n",
    "        i = i.strip()\n",
    "    email = {\n",
    "        'from' : f['From'],\n",
    "        'to' : f['To'],\n",
    "        'timestamp':f['Date'],\n",
    "        'subject':f['Subject'],\n",
    "        'body' : f.get_payload()\n",
    "    }\n",
    "    return email "
   ]
  },
  {
   "cell_type": "markdown",
   "metadata": {},
   "source": [
    "In the following cell, save a new object called `email_1` as the output for the file `maildir/allen-p/inbox/1_`"
   ]
  },
  {
   "cell_type": "code",
   "execution_count": 265,
   "metadata": {},
   "outputs": [
    {
     "name": "stdout",
     "output_type": "stream",
     "text": [
      "{'from': 'heather.dunton@enron.com', 'to': 'k..allen@enron.com', 'timestamp': 'Fri, 7 Dec 2001 10:06:42 -0800 (PST)', 'subject': 'RE: West Position', 'body': ' \\nPlease let me know if you still need Curve Shift.\\n\\nThanks,\\nHeather\\n -----Original Message-----\\nFrom: \\tAllen, Phillip K.  \\nSent:\\tFriday, December 07, 2001 5:14 AM\\nTo:\\tDunton, Heather\\nSubject:\\tRE: West Position\\n\\nHeather,\\n\\nDid you attach the file to this email?\\n\\n -----Original Message-----\\nFrom: \\tDunton, Heather  \\nSent:\\tWednesday, December 05, 2001 1:43 PM\\nTo:\\tAllen, Phillip K.; Belden, Tim\\nSubject:\\tFW: West Position\\n\\nAttached is the Delta position for 1/16, 1/30, 6/19, 7/13, 9/21\\n\\n\\n -----Original Message-----\\nFrom: \\tAllen, Phillip K.  \\nSent:\\tWednesday, December 05, 2001 6:41 AM\\nTo:\\tDunton, Heather\\nSubject:\\tRE: West Position\\n\\nHeather,\\n\\nThis is exactly what we need.  Would it possible to add the prior day for each of the dates below to the pivot table.  In order to validate the curve shift on the dates below we also need the prior days ending positions.\\n\\nThank you,\\n\\nPhillip Allen\\n\\n -----Original Message-----\\nFrom: \\tDunton, Heather  \\nSent:\\tTuesday, December 04, 2001 3:12 PM\\nTo:\\tBelden, Tim; Allen, Phillip K.\\nCc:\\tDriscoll, Michael M.\\nSubject:\\tWest Position\\n\\n\\nAttached is the Delta position for 1/18, 1/31, 6/20, 7/16, 9/24\\n\\n\\n\\n << File: west_delta_pos.xls >> \\n\\nLet me know if you have any questions.\\n\\n\\nHeather'}\n"
     ]
    }
   ],
   "source": [
    "email_1 = email_process('/tmp/maildir/allen-p/inbox/1_')\n",
    "print(email_1)"
   ]
  },
  {
   "cell_type": "markdown",
   "metadata": {},
   "source": [
    "----------------"
   ]
  },
  {
   "cell_type": "markdown",
   "metadata": {},
   "source": [
    "### Task 3: Read in all emails using multiprocessing (3 points)"
   ]
  },
  {
   "cell_type": "markdown",
   "metadata": {},
   "source": [
    "There are two ways to implement multiprocessing on a list of data:\n",
    "\n",
    "1. **The vanilla approach to parallelization** involves getting a list of the items to process, then using the multiple worker processes to complete all the items in parallel like queue system. The list gets processes by workers until there are no items left.\n",
    "2. **The splitting approach to parallelization** involves getting a list of items to process, splitting that list into a number of sublists, then split each sublist to a worker. Each worker then processes the sublist in serial.\n",
    "\n",
    "For more background on these two ideas, check out this useful [medium post](https://medium.com/idealo-tech-blog/parallelisation-in-python-an-alternative-approach-b2749b49a1e)."
   ]
  },
  {
   "cell_type": "markdown",
   "metadata": {},
   "source": [
    "**If you are using a Windows machine (not in this lab)**, you will be unable to save your function in a cell and then run with multiprocesing. Instead, save two scripts `mail_functions_vanilla.py` and `mail_functions_split.py` with the functions needed for each approach. Import the module that you will execute in parallel by calling `import mail_functions_vanilla` and then calling a function within that module, just like you would any other module in python."
   ]
  },
  {
   "cell_type": "markdown",
   "metadata": {},
   "source": [
    "Use the `time` module to track the time taken for each approach. Note that you may have files that are corrupted and you will have to figure out how to handle them gracefully."
   ]
  },
  {
   "cell_type": "markdown",
   "metadata": {},
   "source": [
    "In the following cell(s), implement the vanilla approach to parallelization to process all emails using `pool.map()`. Save the output list to an object called `out_vanilla`."
   ]
  },
  {
   "cell_type": "code",
   "execution_count": 248,
   "metadata": {},
   "outputs": [],
   "source": [
    "import multiprocessing as mp\n",
    "from multiprocessing import Pool\n",
    "import time"
   ]
  },
  {
   "cell_type": "code",
   "execution_count": 266,
   "metadata": {},
   "outputs": [
    {
     "name": "stdout",
     "output_type": "stream",
     "text": [
      "Number workers:  4\n",
      "Total time : 13.06843113899231\n",
      "Time to set up the pool : 0.03322935104370117\n",
      "Time to multiprocess : 13.035140991210938\n"
     ]
    }
   ],
   "source": [
    "start = time.time()\n",
    "NUM_WORKERS = mp.cpu_count() *2\n",
    "print(\"Number workers: \", NUM_WORKERS)\n",
    "pool = mp.Pool(NUM_WORKERS)\n",
    "t1 = time.time()\n",
    "out_vanilla = pool.map(email_process,list_email_paths)\n",
    "t2 = time.time()\n",
    "pool.close\n",
    "end = time.time()\n",
    "print('Total time :', end - start)\n",
    "print('Time to set up the pool :', t1 - start)\n",
    "print('Time to multiprocess :', t2 - t1)"
   ]
  },
  {
   "cell_type": "markdown",
   "metadata": {},
   "source": [
    "In the following cell(s), implement the splitting approach to parallelization to process all emails using `pool.map()`. Save the output list to an object called `out_split`."
   ]
  },
  {
   "cell_type": "code",
   "execution_count": 274,
   "metadata": {},
   "outputs": [
    {
     "name": "stdout",
     "output_type": "stream",
     "text": [
      "Number workers:  4\n",
      "Total time : 13.355940103530884\n",
      "Time to set up the pool : 0.04973292350769043\n",
      "Time to multiprocess : 13.306146621704102\n"
     ]
    }
   ],
   "source": [
    "avg = int(len(list_email_paths) / NUM_WORKERS) + 1\n",
    "chunks = [list_email_paths[x:x+avg] for x in range(0, len(list_email_paths), avg)]\n",
    "\n",
    "def splitter(list_emails):\n",
    "    list_list_emails = []\n",
    "    for i in range(len(list_emails)):\n",
    "        list_list_emails.append(email_process(list_emails[i]))\n",
    "    return list_list_emails\n",
    "\n",
    "\n",
    "start = time.time()\n",
    "NUM_WORKERS = mp.cpu_count() *2\n",
    "print(\"Number workers: \", NUM_WORKERS)\n",
    "pool = mp.Pool(NUM_WORKERS)\n",
    "t1 = time.time()\n",
    "out_splited = pool.map(splitter, chunks)\n",
    "out_split = [item for sublist in out_splited for item in sublist]\n",
    "t2 = time.time()\n",
    "pool.close\n",
    "end = time.time()\n",
    "print('Total time :', end - start)\n",
    "print('Time to set up the pool :', t1 - start)\n",
    "print('Time to multiprocess :', t2 - t1)"
   ]
  },
  {
   "cell_type": "markdown",
   "metadata": {},
   "source": [
    "In the following cell(s), confirm that the results from each method are the same. If they are not, then figure out how to make them the same."
   ]
  },
  {
   "cell_type": "code",
   "execution_count": 273,
   "metadata": {},
   "outputs": [
    {
     "name": "stdout",
     "output_type": "stream",
     "text": [
      "Vanilla approach : 79429\n",
      "Split approach : 79429\n"
     ]
    }
   ],
   "source": [
    "print('Vanilla approach :', len(out_vanilla))\n",
    "print('Split approach :', len(out_split))"
   ]
  },
  {
   "cell_type": "markdown",
   "metadata": {},
   "source": [
    "In the following cell(s), convert the list `out_split` to a Pandas DataFrame and save it as `df_emails`"
   ]
  },
  {
   "cell_type": "code",
   "execution_count": 277,
   "metadata": {},
   "outputs": [
    {
     "data": {
      "text/html": [
       "<div>\n",
       "<style scoped>\n",
       "    .dataframe tbody tr th:only-of-type {\n",
       "        vertical-align: middle;\n",
       "    }\n",
       "\n",
       "    .dataframe tbody tr th {\n",
       "        vertical-align: top;\n",
       "    }\n",
       "\n",
       "    .dataframe thead th {\n",
       "        text-align: right;\n",
       "    }\n",
       "</style>\n",
       "<table border=\"1\" class=\"dataframe\">\n",
       "  <thead>\n",
       "    <tr style=\"text-align: right;\">\n",
       "      <th></th>\n",
       "      <th>from</th>\n",
       "      <th>to</th>\n",
       "      <th>timestamp</th>\n",
       "      <th>subject</th>\n",
       "      <th>body</th>\n",
       "    </tr>\n",
       "  </thead>\n",
       "  <tbody>\n",
       "    <tr>\n",
       "      <th>0</th>\n",
       "      <td>anchordesk_daily@anchordesk.zdlists.com</td>\n",
       "      <td>pallen@enron.com</td>\n",
       "      <td>Sun, 30 Dec 2001 22:49:42 -0800 (PST)</td>\n",
       "      <td>ANCHORDESK: Hope ahead: What I learned from 20...</td>\n",
       "      <td>\\n\\n_____________________DAVID COURSEY________...</td>\n",
       "    </tr>\n",
       "    <tr>\n",
       "      <th>1</th>\n",
       "      <td>subscriptions@intelligencepress.com</td>\n",
       "      <td>pallen@enron.com</td>\n",
       "      <td>Sun, 30 Dec 2001 23:42:30 -0800 (PST)</td>\n",
       "      <td>NGI Publications - Monday, December 31st 2001</td>\n",
       "      <td>Dear phillip,\\n\\n\\nThis e-mail is automated no...</td>\n",
       "    </tr>\n",
       "    <tr>\n",
       "      <th>2</th>\n",
       "      <td>prizemachine@feedback.iwon.com</td>\n",
       "      <td>pallen@enron.com</td>\n",
       "      <td>Mon, 31 Dec 2001 02:24:51 -0800 (PST)</td>\n",
       "      <td>Click. Spin. Chances to Win up to $10,000!</td>\n",
       "      <td>\\n[IMAGE] [IMAGE]   [IMAGE]   [IMAGE] $ 2,500 ...</td>\n",
       "    </tr>\n",
       "    <tr>\n",
       "      <th>3</th>\n",
       "      <td>louise.kitchen@enron.com</td>\n",
       "      <td>wes.colwell@enron.com, georgeanne.hodges@enron...</td>\n",
       "      <td>Mon, 31 Dec 2001 10:53:43 -0800 (PST)</td>\n",
       "      <td>NETCO</td>\n",
       "      <td>The New Year has arrived and we really to fina...</td>\n",
       "    </tr>\n",
       "    <tr>\n",
       "      <th>4</th>\n",
       "      <td>arsystem@mailman.enron.com</td>\n",
       "      <td>k..allen@enron.com</td>\n",
       "      <td>Mon, 31 Dec 2001 17:18:31 -0800 (PST)</td>\n",
       "      <td>Your Approval is Overdue: Access Request for m...</td>\n",
       "      <td>This request has been pending your approval fo...</td>\n",
       "    </tr>\n",
       "  </tbody>\n",
       "</table>\n",
       "</div>"
      ],
      "text/plain": [
       "                                      from  \\\n",
       "0  anchordesk_daily@anchordesk.zdlists.com   \n",
       "1      subscriptions@intelligencepress.com   \n",
       "2           prizemachine@feedback.iwon.com   \n",
       "3                 louise.kitchen@enron.com   \n",
       "4               arsystem@mailman.enron.com   \n",
       "\n",
       "                                                  to  \\\n",
       "0                                   pallen@enron.com   \n",
       "1                                   pallen@enron.com   \n",
       "2                                   pallen@enron.com   \n",
       "3  wes.colwell@enron.com, georgeanne.hodges@enron...   \n",
       "4                                 k..allen@enron.com   \n",
       "\n",
       "                               timestamp  \\\n",
       "0  Sun, 30 Dec 2001 22:49:42 -0800 (PST)   \n",
       "1  Sun, 30 Dec 2001 23:42:30 -0800 (PST)   \n",
       "2  Mon, 31 Dec 2001 02:24:51 -0800 (PST)   \n",
       "3  Mon, 31 Dec 2001 10:53:43 -0800 (PST)   \n",
       "4  Mon, 31 Dec 2001 17:18:31 -0800 (PST)   \n",
       "\n",
       "                                             subject  \\\n",
       "0  ANCHORDESK: Hope ahead: What I learned from 20...   \n",
       "1      NGI Publications - Monday, December 31st 2001   \n",
       "2         Click. Spin. Chances to Win up to $10,000!   \n",
       "3                                              NETCO   \n",
       "4  Your Approval is Overdue: Access Request for m...   \n",
       "\n",
       "                                                body  \n",
       "0  \\n\\n_____________________DAVID COURSEY________...  \n",
       "1  Dear phillip,\\n\\n\\nThis e-mail is automated no...  \n",
       "2  \\n[IMAGE] [IMAGE]   [IMAGE]   [IMAGE] $ 2,500 ...  \n",
       "3  The New Year has arrived and we really to fina...  \n",
       "4  This request has been pending your approval fo...  "
      ]
     },
     "execution_count": 277,
     "metadata": {},
     "output_type": "execute_result"
    }
   ],
   "source": [
    "import pandas as pd\n",
    "df_emails = pd.DataFrame(out_split)\n",
    "df_emails.head()"
   ]
  },
  {
   "cell_type": "markdown",
   "metadata": {},
   "source": [
    "-------------"
   ]
  },
  {
   "cell_type": "markdown",
   "metadata": {},
   "source": [
    "### Task 4: Find the most frequent emailers in the dataset (3 points)"
   ]
  },
  {
   "cell_type": "markdown",
   "metadata": {},
   "source": [
    "We want to know which people sent or received the most emails in the dataset. Use your Pandas dataframe fields `to` and `from` to count the number of emails where an email address appears in the data.\n",
    "\n",
    "**You must use a dictionary** to keep track of the connections between email addresses. This will involve looping through each row and countering the dictionary up for each email instance found. For example, if we processed rows of the data and found that abc@enron.com sent one email to def@enron.com and ghi@enron.com, another sent email to jkl@enron.com as well as received an email from ghi@enron.com. This would result in a dictionary like so:\n",
    "\n",
    "```\n",
    "{\n",
    " 'abc@enron.com' : 3,\n",
    " 'ghi@enron.com' : 2,\n",
    " 'def@enron.com' : 1,\n",
    " 'jkl@enron.com' : 1\n",
    "}\n",
    "```\n",
    "\n",
    "Note that we are counting the email address whether it is the recipient or the sender of the email. It is certainly possible that both sides of the email conversation appears in the dataset, but it is OK to count that twice. The `To` field can contain multiple emails. You have to parse and count each email recipient separately!\n",
    "\n",
    "This process might require a lot of computing power to process every email! You must use `pool.map()` or another `multiprocessing` module function for the mapping part of the problem. The output will be a list of dictionaries like the example above. You will write a function to execute on a small chunk of the dataframe. After you have the list of dictionaries from each chunk, reduce them into a single dictionary.\n",
    "\n",
    "**BONUS:** 1 point - implement the same map and reduce operations leveraging pandas vectorized operations and groupby-summarize functions.\n",
    "\n",
    "\n",
    "**Hint:** break your dataframe into a list of smaller dataframes, and use that list to pass through `pool.map()`"
   ]
  },
  {
   "cell_type": "markdown",
   "metadata": {},
   "source": [
    "Use the following cell(s) to answer this question:"
   ]
  },
  {
   "cell_type": "code",
   "execution_count": 290,
   "metadata": {},
   "outputs": [],
   "source": [
    "def email_count(email):\n",
    "    res = {}\n",
    "    for sender in email['from']:\n",
    "        if sender not in res.keys():\n",
    "            res[sender] = 1\n",
    "        else:\n",
    "            res[sender] += 1\n",
    "        \n",
    "    for recipents in email['to']:\n",
    "        if recipents:\n",
    "            for recipent in recipents.split(\", \"):\n",
    "                if recipent not in res.keys():\n",
    "                    res[recipent] = 1\n",
    "                else:\n",
    "                    res[recipent] += 1\n",
    "    return res"
   ]
  },
  {
   "cell_type": "code",
   "execution_count": 298,
   "metadata": {},
   "outputs": [
    {
     "name": "stdout",
     "output_type": "stream",
     "text": [
      "Number workers:  4\n",
      "Total time : 0.9556937217712402\n",
      "Time to set up the pool : 0.07089543342590332\n",
      "Time to multiprocess : 0.8846991062164307\n"
     ]
    }
   ],
   "source": [
    "# Split dataframe\n",
    "df_list = []\n",
    "for i in range(0, len(df_emails),300):\n",
    "    if i + 300 <= len(df_emails):\n",
    "        smaller_df = df_emails.iloc[i:i+300, ]\n",
    "    else:\n",
    "        smaller_df = df_emails.iloc[i:, ]\n",
    "    df_list.append(smaller_df)\n",
    "    \n",
    "start = time.time()\n",
    "NUM_WORKERS = mp.cpu_count() *2\n",
    "print(\"Number workers: \", NUM_WORKERS)\n",
    "pool = mp.Pool(NUM_WORKERS)\n",
    "t1 = time.time()\n",
    "results = pool.map(email_count, df_list)\n",
    "t2 = time.time()\n",
    "pool.close\n",
    "end = time.time()\n",
    "print('Total time :', end - start)\n",
    "print('Time to set up the pool :', t1 - start)\n",
    "print('Time to multiprocess :', t2 - t1)"
   ]
  },
  {
   "cell_type": "code",
   "execution_count": 301,
   "metadata": {},
   "outputs": [],
   "source": [
    "final_res = {}\n",
    "for dic in results:\n",
    "    for name, count in dic.items():\n",
    "        if name in final_res.keys():\n",
    "            final_res[name] += count\n",
    "        else:\n",
    "            final_res[name] = count"
   ]
  },
  {
   "cell_type": "markdown",
   "metadata": {},
   "source": [
    "In the following cell, save a dictionary with only the 20 email addresses with the most emails to the object `dict_top_addresses_sent`\n",
    "\n",
    "**Hint:** The top email address should be `'jeff.dasovich@enron.com'` with 2,624 emails (though a slightly different number if OK)"
   ]
  },
  {
   "cell_type": "code",
   "execution_count": 302,
   "metadata": {},
   "outputs": [
    {
     "data": {
      "text/plain": [
       "{'jeff.dasovich@enron.com': 2454,\n",
       " 'd..steffes@enron.com': 2197,\n",
       " 'no.address@enron.com': 2054,\n",
       " 'louise.kitchen@enron.com': 1976,\n",
       " 'chris.germany@enron.com': 1872,\n",
       " 'gerald.nemec@enron.com': 1803,\n",
       " 'sara.shackleton@enron.com': 1765,\n",
       " 'kimberly.watson@enron.com': 1726,\n",
       " 'm..presto@enron.com': 1534,\n",
       " 'j.kaminski@enron.com': 1509,\n",
       " 'pete.davis@enron.com': 1493,\n",
       " 'marie.heard@enron.com': 1486,\n",
       " 'rick.buy@enron.com': 1402,\n",
       " 'kam.keiser@enron.com': 1389,\n",
       " 'matthew.lenhart@enron.com': 1388,\n",
       " 'john.arnold@enron.com': 1382,\n",
       " 'lynn.blair@enron.com': 1324,\n",
       " 'tana.jones@enron.com': 1308,\n",
       " 'barry.tycholiz@enron.com': 1296,\n",
       " '40enron@enron.com': 1251}"
      ]
     },
     "execution_count": 302,
     "metadata": {},
     "output_type": "execute_result"
    }
   ],
   "source": [
    "from operator import itemgetter\n",
    "dict_top_addresses_sent = dict(sorted(final_res.items(), key = itemgetter(1), reverse = True)[:20])\n",
    "dict_top_addresses_sent"
   ]
  },
  {
   "cell_type": "code",
   "execution_count": null,
   "metadata": {},
   "outputs": [],
   "source": []
  },
  {
   "cell_type": "markdown",
   "metadata": {},
   "source": [
    "---------------"
   ]
  },
  {
   "cell_type": "markdown",
   "metadata": {},
   "source": [
    "### Final Task: Run the following cell so your outputs can be checked for accuracy - this is a requirement"
   ]
  },
  {
   "cell_type": "markdown",
   "metadata": {},
   "source": [
    "## **Save your analytics results to a json object - then add, commit, and push your notebook and json to GitHub!**"
   ]
  },
  {
   "cell_type": "code",
   "execution_count": 303,
   "metadata": {},
   "outputs": [],
   "source": [
    "import json\n",
    "grading_dict = {'len_paths' : len(list_email_paths),\n",
    " 'email_1' : str(email_1),\n",
    " 'vanilla_split_match' : str(out_vanilla == out_split),\n",
    " 'df_emails' : df_emails.head(10).to_string(),\n",
    " 'dict_top_email_addresses' : str(dict_top_addresses_sent)\n",
    " }\n",
    "\n",
    "json.dump(grading_dict, fp = open('soln.json','w'))"
   ]
  },
  {
   "cell_type": "code",
   "execution_count": null,
   "metadata": {},
   "outputs": [],
   "source": []
  }
 ],
 "metadata": {
  "instance_type": "ml.m5.large",
  "kernelspec": {
   "display_name": "Python 3 (Data Science)",
   "language": "python",
   "name": "python3__SAGEMAKER_INTERNAL__arn:aws:sagemaker:us-east-1:081325390199:image/datascience-1.0"
  },
  "language_info": {
   "codemirror_mode": {
    "name": "ipython",
    "version": 3
   },
   "file_extension": ".py",
   "mimetype": "text/x-python",
   "name": "python",
   "nbconvert_exporter": "python",
   "pygments_lexer": "ipython3",
   "version": "3.7.10"
  }
 },
 "nbformat": 4,
 "nbformat_minor": 4
}
